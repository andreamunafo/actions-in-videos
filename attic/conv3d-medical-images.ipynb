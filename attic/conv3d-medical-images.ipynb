{
 "cells": [
  {
   "cell_type": "code",
   "execution_count": null,
   "metadata": {},
   "outputs": [],
   "source": [
    "spectral_norm = nn.utils.spectral_norm\n",
    "weight_norm = nn.utils.weight_norm"
   ]
  },
  {
   "cell_type": "code",
   "execution_count": null,
   "metadata": {},
   "outputs": [],
   "source": [
    "def conv3d(ni:int, nf:int, ks:int=3, stride:int=1, pad:int=1, norm='batch'):\n",
    "    bias = not norm == 'batch'\n",
    "    conv = init_default(nn.Conv3d(ni,nf,ks,stride,pad,bias=bias))\n",
    "    conv = spectral_norm(conv) if norm == 'spectral' else \\\n",
    "           weight_norm(conv) if norm == 'weight' else conv\n",
    "    layers = [conv]\n",
    "    layers += [nn.ReLU(inplace=True)]  # use inplace due to memory constraints\n",
    "    layers += [nn.BatchNorm3d(nf)] if norm == 'batch' else []\n",
    "    return nn.Sequential(*layers)\n",
    "\n",
    "def res3d_block(ni, nf, ks=3, norm='batch', dense=False):\n",
    "    \"\"\" 3d Resnet block of `nf` features \"\"\"\n",
    "    return SequentialEx(conv3d(ni, nf, ks, pad=ks//2, norm=norm),\n",
    "                             conv3d(nf, nf, ks, pad=ks//2, norm=norm),\n",
    "                             MergeLayer(dense))"
   ]
  },
  {
   "cell_type": "code",
   "execution_count": null,
   "metadata": {},
   "outputs": [],
   "source": [
    "norm = 'batch'\n",
    "layers = ([res3d_block(1,15,7,norm=norm,dense=True)] +\n",
    "          [res3d_block(16,16,norm=norm) for _ in range(4)] +\n",
    "          [conv3d(16,1,ks=1,pad=0,norm=None)])\n",
    "model = nn.Sequential(*layers)"
   ]
  },
  {
   "cell_type": "code",
   "execution_count": null,
   "metadata": {},
   "outputs": [],
   "source": [
    "loss = nn.MSELoss()\n",
    "learner = Learner(data, model, loss_func=loss)"
   ]
  },
  {
   "cell_type": "code",
   "execution_count": null,
   "metadata": {},
   "outputs": [],
   "source": [
    "learner.lr_find(num_it=50)\n",
    "learner.recorder.plot()"
   ]
  },
  {
   "cell_type": "code",
   "execution_count": null,
   "metadata": {},
   "outputs": [],
   "source": []
  }
 ],
 "metadata": {
  "kernelspec": {
   "display_name": "Python 3",
   "language": "python",
   "name": "python3"
  }
 },
 "nbformat": 4,
 "nbformat_minor": 2
}
