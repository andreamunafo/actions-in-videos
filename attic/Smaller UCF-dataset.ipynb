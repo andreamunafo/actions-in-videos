{
 "cells": [
  {
   "cell_type": "markdown",
   "metadata": {},
   "source": [
    "If you screw up run (from ~/data/UCF101/compressed): \n",
    "\n",
    "`unzip UCF101TrainTestSplits-RecognitionTask.zip.zip -d ../annotations `"
   ]
  },
  {
   "cell_type": "code",
   "execution_count": null,
   "metadata": {},
   "outputs": [],
   "source": [
    "import pathlib\n",
    "import pandas as pd\n",
    "import numpy as np"
   ]
  },
  {
   "cell_type": "code",
   "execution_count": null,
   "metadata": {},
   "outputs": [],
   "source": [
    "source_folder = pathlib.Path('../data/UCF101/annotations/ucfTrainTestlist/')\n",
    "destination_folder = pathlib.Path('../data/UCF101/annotations/smaller-ucfTrainTestlist/')"
   ]
  },
  {
   "cell_type": "code",
   "execution_count": null,
   "metadata": {},
   "outputs": [],
   "source": [
    "source_file = source_folder/'trainlist01.txt'\n",
    "final_file = destination_folder/'smaller-trainlist01.txt'"
   ]
  },
  {
   "cell_type": "code",
   "execution_count": null,
   "metadata": {},
   "outputs": [
    {
     "data": {
      "text/html": [
       "<div>\n",
       "<style scoped>\n",
       "    .dataframe tbody tr th:only-of-type {\n",
       "        vertical-align: middle;\n",
       "    }\n",
       "\n",
       "    .dataframe tbody tr th {\n",
       "        vertical-align: top;\n",
       "    }\n",
       "\n",
       "    .dataframe thead th {\n",
       "        text-align: right;\n",
       "    }\n",
       "</style>\n",
       "<table border=\"1\" class=\"dataframe\">\n",
       "  <thead>\n",
       "    <tr style=\"text-align: right;\">\n",
       "      <th></th>\n",
       "      <th>filename</th>\n",
       "      <th>class</th>\n",
       "    </tr>\n",
       "  </thead>\n",
       "  <tbody>\n",
       "    <tr>\n",
       "      <th>0</th>\n",
       "      <td>ApplyEyeMakeup/v_ApplyEyeMakeup_g08_c01.avi</td>\n",
       "      <td>1</td>\n",
       "    </tr>\n",
       "    <tr>\n",
       "      <th>1</th>\n",
       "      <td>ApplyEyeMakeup/v_ApplyEyeMakeup_g08_c02.avi</td>\n",
       "      <td>1</td>\n",
       "    </tr>\n",
       "    <tr>\n",
       "      <th>2</th>\n",
       "      <td>ApplyEyeMakeup/v_ApplyEyeMakeup_g08_c03.avi</td>\n",
       "      <td>1</td>\n",
       "    </tr>\n",
       "    <tr>\n",
       "      <th>3</th>\n",
       "      <td>ApplyEyeMakeup/v_ApplyEyeMakeup_g08_c04.avi</td>\n",
       "      <td>1</td>\n",
       "    </tr>\n",
       "    <tr>\n",
       "      <th>4</th>\n",
       "      <td>ApplyEyeMakeup/v_ApplyEyeMakeup_g08_c05.avi</td>\n",
       "      <td>1</td>\n",
       "    </tr>\n",
       "  </tbody>\n",
       "</table>\n",
       "</div>"
      ],
      "text/plain": [
       "                                      filename  class\n",
       "0  ApplyEyeMakeup/v_ApplyEyeMakeup_g08_c01.avi      1\n",
       "1  ApplyEyeMakeup/v_ApplyEyeMakeup_g08_c02.avi      1\n",
       "2  ApplyEyeMakeup/v_ApplyEyeMakeup_g08_c03.avi      1\n",
       "3  ApplyEyeMakeup/v_ApplyEyeMakeup_g08_c04.avi      1\n",
       "4  ApplyEyeMakeup/v_ApplyEyeMakeup_g08_c05.avi      1"
      ]
     },
     "execution_count": null,
     "metadata": {},
     "output_type": "execute_result"
    }
   ],
   "source": [
    "df = pd.read_csv(source_file, header=None, delimiter=' ', names=['filename', 'class'])\n",
    "\n",
    "df.head()"
   ]
  },
  {
   "cell_type": "code",
   "execution_count": null,
   "metadata": {},
   "outputs": [],
   "source": [
    "f_df = pd.concat([df[df['class']==1],df[df['class']==50], df[df['class']==101]], ignore_index=True) "
   ]
  },
  {
   "cell_type": "code",
   "execution_count": null,
   "metadata": {},
   "outputs": [],
   "source": [
    "f_df.replace({'class': {50: 2, 101: 3}}, inplace=True)"
   ]
  },
  {
   "cell_type": "code",
   "execution_count": null,
   "metadata": {},
   "outputs": [
    {
     "name": "stdout",
     "output_type": "stream",
     "text": [
      "../data/UCF101/annotations/smaller-ucfTrainTestlist/smaller-trainlist01.txt\n"
     ]
    }
   ],
   "source": [
    "print(final_file)"
   ]
  },
  {
   "cell_type": "code",
   "execution_count": null,
   "metadata": {},
   "outputs": [],
   "source": [
    "f_df.to_csv(final_file, header=None, index=None, sep=' ', mode='w')"
   ]
  },
  {
   "cell_type": "code",
   "execution_count": null,
   "metadata": {},
   "outputs": [
    {
     "data": {
      "text/html": [
       "<div>\n",
       "<style scoped>\n",
       "    .dataframe tbody tr th:only-of-type {\n",
       "        vertical-align: middle;\n",
       "    }\n",
       "\n",
       "    .dataframe tbody tr th {\n",
       "        vertical-align: top;\n",
       "    }\n",
       "\n",
       "    .dataframe thead th {\n",
       "        text-align: right;\n",
       "    }\n",
       "</style>\n",
       "<table border=\"1\" class=\"dataframe\">\n",
       "  <thead>\n",
       "    <tr style=\"text-align: right;\">\n",
       "      <th></th>\n",
       "      <th>filename</th>\n",
       "      <th>class</th>\n",
       "    </tr>\n",
       "  </thead>\n",
       "  <tbody>\n",
       "    <tr>\n",
       "      <th>0</th>\n",
       "      <td>ApplyEyeMakeup/v_ApplyEyeMakeup_g08_c01.avi</td>\n",
       "      <td>1</td>\n",
       "    </tr>\n",
       "    <tr>\n",
       "      <th>1</th>\n",
       "      <td>ApplyEyeMakeup/v_ApplyEyeMakeup_g08_c02.avi</td>\n",
       "      <td>1</td>\n",
       "    </tr>\n",
       "    <tr>\n",
       "      <th>2</th>\n",
       "      <td>ApplyEyeMakeup/v_ApplyEyeMakeup_g08_c03.avi</td>\n",
       "      <td>1</td>\n",
       "    </tr>\n",
       "    <tr>\n",
       "      <th>3</th>\n",
       "      <td>ApplyEyeMakeup/v_ApplyEyeMakeup_g08_c04.avi</td>\n",
       "      <td>1</td>\n",
       "    </tr>\n",
       "    <tr>\n",
       "      <th>4</th>\n",
       "      <td>ApplyEyeMakeup/v_ApplyEyeMakeup_g08_c05.avi</td>\n",
       "      <td>1</td>\n",
       "    </tr>\n",
       "  </tbody>\n",
       "</table>\n",
       "</div>"
      ],
      "text/plain": [
       "                                      filename  class\n",
       "0  ApplyEyeMakeup/v_ApplyEyeMakeup_g08_c01.avi      1\n",
       "1  ApplyEyeMakeup/v_ApplyEyeMakeup_g08_c02.avi      1\n",
       "2  ApplyEyeMakeup/v_ApplyEyeMakeup_g08_c03.avi      1\n",
       "3  ApplyEyeMakeup/v_ApplyEyeMakeup_g08_c04.avi      1\n",
       "4  ApplyEyeMakeup/v_ApplyEyeMakeup_g08_c05.avi      1"
      ]
     },
     "execution_count": null,
     "metadata": {},
     "output_type": "execute_result"
    }
   ],
   "source": [
    "f_df.head()"
   ]
  },
  {
   "cell_type": "markdown",
   "metadata": {},
   "source": [
    "## Test"
   ]
  },
  {
   "cell_type": "code",
   "execution_count": null,
   "metadata": {},
   "outputs": [],
   "source": [
    "source_file = source_folder/'testlist01.txt'\n",
    "final_file = destination_folder/'smaller-testlist01.txt'\n",
    "class_file = source_folder/'classInd.txt'\n",
    "destination_class_file = destination_folder/'smaller-classInd.txt'"
   ]
  },
  {
   "cell_type": "code",
   "execution_count": null,
   "metadata": {},
   "outputs": [],
   "source": [
    "with open(class_file,'r') as f:\n",
    "    lines = f.readlines()\n",
    "    lines = [line.split(' ')[1].strip() for line in lines]\n",
    "    class_names = np.asarray(lines)\n",
    "\n",
    "with open(source_file,'r') as f:\n",
    "    lines = f.readlines()\n",
    "    filenames = [line.split(' ')[0].strip() for line in lines]\n",
    "    classnames = [filename.split('/')[0] for filename in filenames]\n",
    "    y_test = [np.where(classname == class_names)[0][0] for classname in classnames]\n",
    "    y_test = np.asarray(y_test)\n",
    "    #filenames = [source_folder.as_posix() + filename for filename in filenames]\n",
    "    \n",
    "test = (np.asarray(filenames),y_test)\n",
    "test_dict = {'filename':np.asarray(filenames),'class':y_test}\n",
    "test_df = pd.DataFrame(test_dict)"
   ]
  },
  {
   "cell_type": "code",
   "execution_count": null,
   "metadata": {},
   "outputs": [
    {
     "data": {
      "text/html": [
       "<div>\n",
       "<style scoped>\n",
       "    .dataframe tbody tr th:only-of-type {\n",
       "        vertical-align: middle;\n",
       "    }\n",
       "\n",
       "    .dataframe tbody tr th {\n",
       "        vertical-align: top;\n",
       "    }\n",
       "\n",
       "    .dataframe thead th {\n",
       "        text-align: right;\n",
       "    }\n",
       "</style>\n",
       "<table border=\"1\" class=\"dataframe\">\n",
       "  <thead>\n",
       "    <tr style=\"text-align: right;\">\n",
       "      <th></th>\n",
       "      <th>filename</th>\n",
       "      <th>class</th>\n",
       "    </tr>\n",
       "  </thead>\n",
       "  <tbody>\n",
       "    <tr>\n",
       "      <th>0</th>\n",
       "      <td>ApplyEyeMakeup/v_ApplyEyeMakeup_g01_c01.avi</td>\n",
       "      <td>0</td>\n",
       "    </tr>\n",
       "    <tr>\n",
       "      <th>1</th>\n",
       "      <td>ApplyEyeMakeup/v_ApplyEyeMakeup_g01_c02.avi</td>\n",
       "      <td>0</td>\n",
       "    </tr>\n",
       "    <tr>\n",
       "      <th>2</th>\n",
       "      <td>ApplyEyeMakeup/v_ApplyEyeMakeup_g01_c03.avi</td>\n",
       "      <td>0</td>\n",
       "    </tr>\n",
       "    <tr>\n",
       "      <th>3</th>\n",
       "      <td>ApplyEyeMakeup/v_ApplyEyeMakeup_g01_c04.avi</td>\n",
       "      <td>0</td>\n",
       "    </tr>\n",
       "    <tr>\n",
       "      <th>4</th>\n",
       "      <td>ApplyEyeMakeup/v_ApplyEyeMakeup_g01_c05.avi</td>\n",
       "      <td>0</td>\n",
       "    </tr>\n",
       "    <tr>\n",
       "      <th>...</th>\n",
       "      <td>...</td>\n",
       "      <td>...</td>\n",
       "    </tr>\n",
       "    <tr>\n",
       "      <th>3778</th>\n",
       "      <td>YoYo/v_YoYo_g06_c04.avi</td>\n",
       "      <td>100</td>\n",
       "    </tr>\n",
       "    <tr>\n",
       "      <th>3779</th>\n",
       "      <td>YoYo/v_YoYo_g07_c01.avi</td>\n",
       "      <td>100</td>\n",
       "    </tr>\n",
       "    <tr>\n",
       "      <th>3780</th>\n",
       "      <td>YoYo/v_YoYo_g07_c02.avi</td>\n",
       "      <td>100</td>\n",
       "    </tr>\n",
       "    <tr>\n",
       "      <th>3781</th>\n",
       "      <td>YoYo/v_YoYo_g07_c03.avi</td>\n",
       "      <td>100</td>\n",
       "    </tr>\n",
       "    <tr>\n",
       "      <th>3782</th>\n",
       "      <td>YoYo/v_YoYo_g07_c04.avi</td>\n",
       "      <td>100</td>\n",
       "    </tr>\n",
       "  </tbody>\n",
       "</table>\n",
       "<p>3783 rows × 2 columns</p>\n",
       "</div>"
      ],
      "text/plain": [
       "                                         filename  class\n",
       "0     ApplyEyeMakeup/v_ApplyEyeMakeup_g01_c01.avi      0\n",
       "1     ApplyEyeMakeup/v_ApplyEyeMakeup_g01_c02.avi      0\n",
       "2     ApplyEyeMakeup/v_ApplyEyeMakeup_g01_c03.avi      0\n",
       "3     ApplyEyeMakeup/v_ApplyEyeMakeup_g01_c04.avi      0\n",
       "4     ApplyEyeMakeup/v_ApplyEyeMakeup_g01_c05.avi      0\n",
       "...                                           ...    ...\n",
       "3778                      YoYo/v_YoYo_g06_c04.avi    100\n",
       "3779                      YoYo/v_YoYo_g07_c01.avi    100\n",
       "3780                      YoYo/v_YoYo_g07_c02.avi    100\n",
       "3781                      YoYo/v_YoYo_g07_c03.avi    100\n",
       "3782                      YoYo/v_YoYo_g07_c04.avi    100\n",
       "\n",
       "[3783 rows x 2 columns]"
      ]
     },
     "execution_count": null,
     "metadata": {},
     "output_type": "execute_result"
    }
   ],
   "source": [
    "test_df"
   ]
  },
  {
   "cell_type": "code",
   "execution_count": null,
   "metadata": {},
   "outputs": [
    {
     "name": "stdout",
     "output_type": "stream",
     "text": [
      "../data/UCF101/annotations/smaller-ucfTrainTestlist/smaller-testlist01.txt\n"
     ]
    }
   ],
   "source": [
    "print(final_file)"
   ]
  },
  {
   "cell_type": "code",
   "execution_count": null,
   "metadata": {},
   "outputs": [],
   "source": [
    "f_df = pd.concat([test_df[test_df['class']==0],test_df[test_df['class']==49], test_df[test_df['class']==100]], ignore_index=True) \n",
    "f_df.replace({'class': {0:1, 49: 2, 100: 3}}, inplace=True)\n",
    "\n",
    "f_df.to_csv(final_file, header=None, index=None, sep=' ', mode='w')"
   ]
  },
  {
   "cell_type": "markdown",
   "metadata": {},
   "source": [
    "## Class file"
   ]
  },
  {
   "cell_type": "code",
   "execution_count": null,
   "metadata": {},
   "outputs": [],
   "source": [
    "class_names[0], class_names[49], class_names[100]\n",
    "\n",
    "\n",
    "class_dict = {'index':[1,2,3],'class':[class_names[0], class_names[49], class_names[100]]}\n",
    "class_df = pd.DataFrame(class_dict)"
   ]
  },
  {
   "cell_type": "code",
   "execution_count": null,
   "metadata": {},
   "outputs": [
    {
     "data": {
      "text/html": [
       "<div>\n",
       "<style scoped>\n",
       "    .dataframe tbody tr th:only-of-type {\n",
       "        vertical-align: middle;\n",
       "    }\n",
       "\n",
       "    .dataframe tbody tr th {\n",
       "        vertical-align: top;\n",
       "    }\n",
       "\n",
       "    .dataframe thead th {\n",
       "        text-align: right;\n",
       "    }\n",
       "</style>\n",
       "<table border=\"1\" class=\"dataframe\">\n",
       "  <thead>\n",
       "    <tr style=\"text-align: right;\">\n",
       "      <th></th>\n",
       "      <th>index</th>\n",
       "      <th>class</th>\n",
       "    </tr>\n",
       "  </thead>\n",
       "  <tbody>\n",
       "    <tr>\n",
       "      <th>0</th>\n",
       "      <td>1</td>\n",
       "      <td>ApplyEyeMakeup</td>\n",
       "    </tr>\n",
       "    <tr>\n",
       "      <th>1</th>\n",
       "      <td>2</td>\n",
       "      <td>Knitting</td>\n",
       "    </tr>\n",
       "    <tr>\n",
       "      <th>2</th>\n",
       "      <td>3</td>\n",
       "      <td>YoYo</td>\n",
       "    </tr>\n",
       "  </tbody>\n",
       "</table>\n",
       "</div>"
      ],
      "text/plain": [
       "   index           class\n",
       "0      1  ApplyEyeMakeup\n",
       "1      2        Knitting\n",
       "2      3            YoYo"
      ]
     },
     "execution_count": null,
     "metadata": {},
     "output_type": "execute_result"
    }
   ],
   "source": [
    "class_df.head()"
   ]
  },
  {
   "cell_type": "code",
   "execution_count": null,
   "metadata": {},
   "outputs": [
    {
     "name": "stdout",
     "output_type": "stream",
     "text": [
      "../data/UCF101/annotations/smaller-ucfTrainTestlist/smaller-classInd.txt\n"
     ]
    }
   ],
   "source": [
    "print(destination_class_file)"
   ]
  },
  {
   "cell_type": "code",
   "execution_count": null,
   "metadata": {},
   "outputs": [],
   "source": [
    "class_df.to_csv(destination_class_file, header=None, index=None, sep=' ', mode='w')"
   ]
  },
  {
   "cell_type": "markdown",
   "metadata": {},
   "source": [
    "# Sampling random rows from a file using bash"
   ]
  },
  {
   "cell_type": "markdown",
   "metadata": {},
   "source": [
    "### Input parameters"
   ]
  },
  {
   "cell_type": "code",
   "execution_count": null,
   "metadata": {},
   "outputs": [],
   "source": [
    "source_folder = '../data/UCF101/annotations/ucfTrainTestlist/'\n",
    "destination_folder = '../data/UCF101/annotations/smaller-ucfTrainTestlist/'\n",
    "#source_file = source_folder + 'trainlist01.txt'\n",
    "#final_file = destination_folder + 'smaller-trainlist01.txt'\n",
    "source_file = source_folder + 'testlist01.txt'\n",
    "final_file = destination_folder + 'smaller-testlist01.txt'\n",
    "filesize = 380"
   ]
  },
  {
   "cell_type": "markdown",
   "metadata": {},
   "source": [
    "### Internal variables"
   ]
  },
  {
   "cell_type": "code",
   "execution_count": null,
   "metadata": {},
   "outputs": [],
   "source": [
    "\n",
    "### working files\n",
    "smaller_1 = destination_folder + '.smaller-1.txt'\n",
    "smaller_2 = destination_folder + '.smaller-2.txt'\n",
    "smaller_3 = destination_folder + '.smaller-3.txt'\n"
   ]
  },
  {
   "cell_type": "code",
   "execution_count": null,
   "metadata": {},
   "outputs": [
    {
     "data": {
      "text/plain": [
       "('../data/UCF101/annotations/ucfTrainTestlist/testlist01.txt',\n",
       " '../data/UCF101/annotations/smaller-ucfTrainTestlist/smaller-testlist01.txt',\n",
       " '../data/UCF101/annotations/smaller-ucfTrainTestlist/.smaller-1.txt',\n",
       " '../data/UCF101/annotations/smaller-ucfTrainTestlist/.smaller-2.txt',\n",
       " '../data/UCF101/annotations/smaller-ucfTrainTestlist/.smaller-3.txt')"
      ]
     },
     "execution_count": null,
     "metadata": {},
     "output_type": "execute_result"
    }
   ],
   "source": [
    "source_file, final_file, smaller_1, smaller_2, smaller_3"
   ]
  },
  {
   "cell_type": "code",
   "execution_count": null,
   "metadata": {},
   "outputs": [
    {
     "name": "stdout",
     "output_type": "stream",
     "text": [
      ".   classInd.txt    testlist02.txt  trainlist01.txt  trainlist03.txt\r\n",
      "..  testlist01.txt  testlist03.txt  trainlist02.txt\r\n"
     ]
    }
   ],
   "source": [
    "!ls -a $source_folder"
   ]
  },
  {
   "cell_type": "code",
   "execution_count": null,
   "metadata": {},
   "outputs": [],
   "source": [
    "!mkdir -p $destination_folder"
   ]
  },
  {
   "cell_type": "code",
   "execution_count": null,
   "metadata": {},
   "outputs": [
    {
     "name": "stdout",
     "output_type": "stream",
     "text": [
      ".  ..  smaller-testlist01.txt  smaller-trainlist01.txt\r\n"
     ]
    }
   ],
   "source": [
    "!ls -a $destination_folder"
   ]
  },
  {
   "cell_type": "markdown",
   "metadata": {},
   "source": [
    "### Grab randomly a desired number of rows"
   ]
  },
  {
   "cell_type": "code",
   "execution_count": null,
   "metadata": {},
   "outputs": [],
   "source": [
    "!cp $source_file $smaller_1\n",
    "!shuf -n $filesize $smaller_1 > $smaller_2\n",
    "!sort -k2 -n $smaller_2 > $smaller_3\n",
    "!mv $smaller_3 $final_file\n",
    "\n",
    "!rm $smaller_1 $smaller_2"
   ]
  },
  {
   "cell_type": "markdown",
   "metadata": {},
   "source": [
    "Checks results"
   ]
  },
  {
   "cell_type": "code",
   "execution_count": null,
   "metadata": {},
   "outputs": [
    {
     "name": "stdout",
     "output_type": "stream",
     "text": [
      "3783\n",
      "380\n"
     ]
    }
   ],
   "source": [
    "!cat $source_file | wc -l\n",
    "!cat $final_file | wc -l"
   ]
  },
  {
   "cell_type": "code",
   "execution_count": null,
   "metadata": {},
   "outputs": [],
   "source": []
  }
 ],
 "metadata": {
  "kernelspec": {
   "display_name": "Python 3",
   "language": "python",
   "name": "python3"
  }
 },
 "nbformat": 4,
 "nbformat_minor": 2
}
