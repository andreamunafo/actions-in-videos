{
 "cells": [
  {
   "cell_type": "code",
   "execution_count": null,
   "metadata": {},
   "outputs": [],
   "source": [
    "# default_exp utils"
   ]
  },
  {
   "cell_type": "markdown",
   "metadata": {},
   "source": [
    "# Utils\n",
    "\n",
    "> API details."
   ]
  },
  {
   "cell_type": "code",
   "execution_count": 2,
   "metadata": {},
   "outputs": [],
   "source": [
    "#hide\n",
    "from nbdev.showdoc import *"
   ]
  },
  {
   "cell_type": "code",
   "execution_count": 3,
   "metadata": {},
   "outputs": [],
   "source": [
    "#export\n",
    "import numpy as np"
   ]
  },
  {
   "cell_type": "markdown",
   "metadata": {},
   "source": [
    "## Table class"
   ]
  },
  {
   "cell_type": "code",
   "execution_count": 122,
   "metadata": {},
   "outputs": [],
   "source": [
    "#export\n",
    "class Table:\n",
    "    \"\"\"\n",
    "    Class that prints a 2D table of numpy data.\n",
    "    \"\"\"\n",
    "    def __init__(self, data, col_names=[], h_space=0):\n",
    "        \"\"\"\n",
    "        Constructor.\n",
    "        Args\n",
    "            data: 1D or 2D matrix of data (nested list or np array)\n",
    "            col_names: column names\n",
    "            h_space: horizontal space between columns. if 0 it is calculated based on the longest string/\n",
    "        \"\"\"\n",
    "        assert isinstance(col_names, list), \"col_names must be a list\"\n",
    "        assert len(data.shape) <= 2, \"data must be 1 or 2 dimentional.\"   \n",
    "        self.data = data\n",
    "        self.col_names = col_names\n",
    "        self.h_space = h_space\n",
    "        \n",
    "    def __repr__(self):        \n",
    "        if isinstance(self.data, np. ndarray):\n",
    "            data = [self.col_names] + list(zip(*self.data.tolist()))            \n",
    "        else:\n",
    "            data = [self.col_names] + list(zip(self.data))\n",
    "        \n",
    "        if self.h_space <= 0:\n",
    "            h_space = len(max(max(data, key=len), key=len))\n",
    "        else:\n",
    "            h_space = self.h_space\n",
    "        \n",
    "        table = ''\n",
    "        for i, d in enumerate(data):\n",
    "            table += '|'.join(str(x).ljust(h_space) for x in d)\n",
    "            table += '\\n'\n",
    "            if i == 0 and len(self.col_names) > 0:\n",
    "                table += '-' * len(table) + '\\n' \n",
    "        return table\n",
    "        "
   ]
  },
  {
   "cell_type": "code",
   "execution_count": 123,
   "metadata": {},
   "outputs": [
    {
     "name": "stdout",
     "output_type": "stream",
     "text": [
      "one|two\n",
      "--------\n",
      "1  |3  \n",
      "2  |4  \n",
      "\n"
     ]
    }
   ],
   "source": [
    "t=Table(data, col_names=['one', 'two'], h_space=0)\n",
    "\n",
    "print(t)"
   ]
  },
  {
   "cell_type": "markdown",
   "metadata": {},
   "source": [
    "## Circular range"
   ]
  },
  {
   "cell_type": "code",
   "execution_count": 140,
   "metadata": {},
   "outputs": [],
   "source": [
    "def crange(id0, idf, step=1, seq_len=None):\n",
    "    if seq_len is None: seq_len = idf\n",
    "    assert seq_len > 0, \"minimum sequence length must be > 0 (seq_len>0)\"\n",
    "    out = []\n",
    "    for i in range(id0, idf, step):\n",
    "        out.append(i % seq_len)\n",
    "    return out"
   ]
  },
  {
   "cell_type": "code",
   "execution_count": 144,
   "metadata": {},
   "outputs": [
    {
     "name": "stdout",
     "output_type": "stream",
     "text": [
      "1\n",
      "0\n"
     ]
    }
   ],
   "source": [
    "for i in crange(3, 5, seq_len=2): print(i)"
   ]
  },
  {
   "cell_type": "code",
   "execution_count": 124,
   "metadata": {},
   "outputs": [
    {
     "name": "stdout",
     "output_type": "stream",
     "text": [
      "Converted 00_core.ipynb.\n",
      "Converted 01_dataset_ucf101.ipynb.\n",
      "Converted 02_avi.ipynb.\n",
      "Converted 04_data_augmentation.ipynb.\n",
      "Converted 05_models.ipynb.\n",
      "Converted 06_utils.ipynb.\n",
      "Converted index.ipynb.\n"
     ]
    }
   ],
   "source": [
    "from nbdev.export import *\n",
    "notebook2script()"
   ]
  },
  {
   "cell_type": "code",
   "execution_count": null,
   "metadata": {},
   "outputs": [],
   "source": []
  }
 ],
 "metadata": {
  "kernelspec": {
   "display_name": "Python 3",
   "language": "python",
   "name": "python3"
  },
  "language_info": {
   "codemirror_mode": {
    "name": "ipython",
    "version": 3
   },
   "file_extension": ".py",
   "mimetype": "text/x-python",
   "name": "python",
   "nbconvert_exporter": "python",
   "pygments_lexer": "ipython3",
   "version": "3.6.9"
  }
 },
 "nbformat": 4,
 "nbformat_minor": 2
}
