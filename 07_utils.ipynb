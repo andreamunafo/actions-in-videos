{
 "cells": [
  {
   "cell_type": "code",
   "execution_count": null,
   "metadata": {},
   "outputs": [],
   "source": [
    "# default_exp utils"
   ]
  },
  {
   "cell_type": "markdown",
   "metadata": {},
   "source": [
    "# Utils\n",
    "\n",
    "> API details."
   ]
  },
  {
   "cell_type": "code",
   "execution_count": null,
   "metadata": {},
   "outputs": [],
   "source": [
    "#hide\n",
    "from nbdev.showdoc import *"
   ]
  },
  {
   "cell_type": "code",
   "execution_count": null,
   "metadata": {},
   "outputs": [],
   "source": [
    "#export\n",
    "import numpy as np\n",
    "import random"
   ]
  },
  {
   "cell_type": "markdown",
   "metadata": {},
   "source": [
    "## Table class"
   ]
  },
  {
   "cell_type": "code",
   "execution_count": null,
   "metadata": {},
   "outputs": [],
   "source": [
    "#export\n",
    "class Table:\n",
    "    \"\"\"\n",
    "    Class that prints a 2D table of numpy data.\n",
    "    \"\"\"\n",
    "    def __init__(self, data, col_names=[], h_space=0):\n",
    "        \"\"\"\n",
    "        Constructor.\n",
    "        Args\n",
    "            data: 1D or 2D matrix of data (nested list or np array)\n",
    "            col_names: column names\n",
    "            h_space: horizontal space between columns. if 0 it is calculated based on the longest string/\n",
    "        \"\"\"\n",
    "        assert isinstance(col_names, list), \"col_names must be a list\"\n",
    "        assert len(data.shape) <= 2, \"data must be 1 or 2 dimentional.\"   \n",
    "        self.data = data\n",
    "        self.col_names = col_names\n",
    "        self.h_space = h_space\n",
    "        \n",
    "    def __repr__(self):        \n",
    "        if isinstance(self.data, np. ndarray):\n",
    "            data = [self.col_names] + list(zip(*self.data.tolist()))            \n",
    "        else:\n",
    "            data = [self.col_names] + list(zip(self.data))\n",
    "        \n",
    "        if self.h_space <= 0:\n",
    "            h_space = len(max(max(data, key=len), key=len))\n",
    "        else:\n",
    "            h_space = self.h_space\n",
    "        \n",
    "        table = ''\n",
    "        for i, d in enumerate(data):\n",
    "            table += '|'.join(str(x).ljust(h_space) for x in d)\n",
    "            table += '\\n'\n",
    "            if i == 0 and len(self.col_names) > 0:\n",
    "                table += '-' * len(table) + '\\n' \n",
    "        return table\n",
    "        "
   ]
  },
  {
   "cell_type": "code",
   "execution_count": null,
   "metadata": {},
   "outputs": [
    {
     "name": "stdout",
     "output_type": "stream",
     "text": [
      "one|two\n",
      "--------\n",
      "1  |3  \n",
      "2  |4  \n",
      "\n"
     ]
    }
   ],
   "source": [
    "t=Table(data, col_names=['one', 'two'], h_space=0)\n",
    "\n",
    "print(t)"
   ]
  },
  {
   "cell_type": "markdown",
   "metadata": {},
   "source": [
    "## Circular range"
   ]
  },
  {
   "cell_type": "code",
   "execution_count": null,
   "metadata": {},
   "outputs": [],
   "source": [
    "def crange(id0, idf, step=1, seq_len=None):\n",
    "    if seq_len is None: seq_len = idf\n",
    "    assert seq_len > 0, \"minimum sequence length must be > 0 (seq_len>0)\"\n",
    "    out = []\n",
    "    for i in range(id0, idf, step):\n",
    "        out.append(i % seq_len)\n",
    "    return out"
   ]
  },
  {
   "cell_type": "code",
   "execution_count": null,
   "metadata": {},
   "outputs": [
    {
     "name": "stdout",
     "output_type": "stream",
     "text": [
      "1\n",
      "0\n"
     ]
    }
   ],
   "source": [
    "for i in crange(3, 5, seq_len=2): print(i)"
   ]
  },
  {
   "cell_type": "markdown",
   "metadata": {},
   "source": [
    "# Random hex "
   ]
  },
  {
   "cell_type": "code",
   "execution_count": null,
   "metadata": {},
   "outputs": [],
   "source": [
    "#export\n",
    "def getHex():\n",
    "    random_number = np.random.randint(0,16777215)\n",
    "    hex_number = str(hex(random_number))\n",
    "\n",
    "    return hex_number"
   ]
  },
  {
   "cell_type": "code",
   "execution_count": null,
   "metadata": {},
   "outputs": [
    {
     "name": "stdout",
     "output_type": "stream",
     "text": [
      "0x9c8d27\n"
     ]
    }
   ],
   "source": [
    "print(getHex())"
   ]
  },
  {
   "cell_type": "code",
   "execution_count": null,
   "metadata": {},
   "outputs": [],
   "source": [
    "# from https://stackoverflow.com/questions/25010369/wget-curl-large-file-from-google-drive/39225039#39225039\n",
    "# look also at gdown\n",
    "\n",
    "# import requests\n",
    "# def download_file_from_google_drive(id, destination):\n",
    "#     def get_confirm_token(response):\n",
    "#         for key, value in response.cookies.items():\n",
    "#             if key.startswith('download_warning'):\n",
    "#                 return value\n",
    "\n",
    "#         return None\n",
    "\n",
    "#     def save_response_content(response, destination):\n",
    "#         CHUNK_SIZE = 32768\n",
    "\n",
    "#         with open(destination, \"wb\") as f:\n",
    "#             for chunk in response.iter_content(CHUNK_SIZE):\n",
    "#                 if chunk: # filter out keep-alive new chunks\n",
    "#                     f.write(chunk)\n",
    "\n",
    "#     URL = \"https://docs.google.com/uc?export=download\"\n",
    "\n",
    "#     session = requests.Session()\n",
    "\n",
    "#     response = session.get(URL, params = { 'id' : id }, stream = True)\n",
    "#     token = get_confirm_token(response)\n",
    "\n",
    "#     if token:\n",
    "#         params = { 'id' : id, 'confirm' : token }\n",
    "#         response = session.get(URL, params = params, stream = True)\n",
    "\n",
    "#     save_response_content(response, destination)    \n",
    "\n",
    "\n",
    "# if __name__ == \"__main__\":\n",
    "#     import sys\n",
    "#     if len(sys.argv) is not 3:\n",
    "#         print(\"Usage: python google_drive.py drive_file_id destination_file_path\")\n",
    "#     else:\n",
    "#         # TAKE ID FROM SHAREABLE LINK\n",
    "#         file_id = sys.argv[1]\n",
    "#         # DESTINATION FILE ON YOUR DISK\n",
    "#         destination = sys.argv[2]\n",
    "#         download_file_from_google_drive(file_id, destination)"
   ]
  },
  {
   "cell_type": "code",
   "execution_count": null,
   "metadata": {},
   "outputs": [
    {
     "name": "stdout",
     "output_type": "stream",
     "text": [
      "Converted 00_core.ipynb.\n",
      "Converted 01_dataset_ucf101.ipynb.\n",
      "Converted 02_avi.ipynb.\n",
      "Converted 04_data_augmentation.ipynb.\n",
      "Converted 05_models.ipynb.\n",
      "Converted 06_utils.ipynb.\n",
      "Converted index.ipynb.\n"
     ]
    }
   ],
   "source": [
    "from nbdev.export import *\n",
    "notebook2script()"
   ]
  },
  {
   "cell_type": "code",
   "execution_count": null,
   "metadata": {},
   "outputs": [],
   "source": []
  }
 ],
 "metadata": {
  "kernelspec": {
   "display_name": "Python 3",
   "language": "python",
   "name": "python3"
  }
 },
 "nbformat": 4,
 "nbformat_minor": 2
}
