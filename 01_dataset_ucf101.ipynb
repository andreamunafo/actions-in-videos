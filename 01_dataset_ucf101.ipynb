{
 "cells": [
  {
   "cell_type": "code",
   "execution_count": null,
   "metadata": {},
   "outputs": [],
   "source": [
    "# default_exp dataset_ucf101"
   ]
  },
  {
   "cell_type": "markdown",
   "metadata": {},
   "source": [
    "# Dataset UCF101 Module\n",
    "\n",
    "> This module focuses on preparing the data of the UCF101 dataset to be used with the core functions.\n",
    "\n",
    "\n",
    "This notebook uses the [UCF101 – Action Recognition Data Set](https://www.crcv.ucf.edu/data/UCF101.php).\n",
    "\n",
    "The dataset consists of 13,320 videos between ~2-10 seconds long of humans performing one of 101 possible actions. The dimensions of each frame are 320 by 240."
   ]
  },
  {
   "cell_type": "markdown",
   "metadata": {},
   "source": [
    "### Preparing the data\n",
    "\n",
    "The following function uses a text file provided with the dataset\n",
    "    which lists all of the relative paths for the videos for the train/test split. \n",
    "This function can be called with the location of the dataset \n",
    "(e.g. ./data/UCF101/) and returns filenames and classes associated.\n",
    "\n",
    "This notebook assumes the following data folders:\n",
    "\n",
    "`{base_directory} \n",
    "├── annotations  \n",
    "├── compressed  \n",
    "└── UCF-101  `"
   ]
  },
  {
   "cell_type": "code",
   "execution_count": null,
   "metadata": {},
   "outputs": [],
   "source": [
    "#hide\n",
    "from nbdev.showdoc import *"
   ]
  },
  {
   "cell_type": "code",
   "execution_count": 64,
   "metadata": {},
   "outputs": [],
   "source": [
    "#export\n",
    "import numpy as np\n",
    "import pathlib\n",
    "import matplotlib.pyplot as plt\n",
    "\n",
    "from torch.utils.data import Dataset, DataLoader\n",
    "from torchvision import utils\n",
    "import torchvision.transforms as transforms\n",
    "import torch\n",
    "import cv2\n",
    "\n",
    "from actions_in_videos.avi import AVI\n",
    "#from actions_in_videos.data_augmentation import *"
   ]
  },
  {
   "cell_type": "code",
   "execution_count": 9,
   "metadata": {},
   "outputs": [],
   "source": [
    "%load_ext autoreload\n",
    "%autoreload 2\n",
    "%matplotlib inline"
   ]
  },
  {
   "cell_type": "code",
   "execution_count": 10,
   "metadata": {},
   "outputs": [],
   "source": [
    "#export\n",
    "class UCF101:    \n",
    "    def __init__(self, base_directory=''):\n",
    "        \"\"\"\n",
    "        Args:\n",
    "          base_directory: main data folder (e.g. ../data/UCF101)\n",
    "        \"\"\"\n",
    "        self.base_directory = pathlib.Path(base_directory)\n",
    "    \n",
    "    def getFileList(self, data_type='train', remove_classname = False, smaller_dataset=False):\n",
    "        \"\"\"\n",
    "        This function uses a text file provided with the dataset\n",
    "        which lists all of the relative paths for the videos for the train/test split. \n",
    "\n",
    "        Args:\n",
    "          data_type: 'train' | 'test'\n",
    "          remove_classname: if True does not include the class name in the filenames.\n",
    "          smaller_dataset: False, uses normal UCF101. True uses a subsampled version (see associated notebook)\n",
    "        Returns:\n",
    "          X is a tuple. \n",
    "             The first element is a numpy array with the absolute \n",
    "               filepaths for the videos for training. \n",
    "             The second element is a numpy array of class indices (0-100). \n",
    "          class_names is a list of the action categories. \n",
    "\n",
    "        \"\"\"\n",
    "\n",
    "        base_directory = self.base_directory\n",
    "\n",
    "        #print(f'[getFileList] Reading data from: {base_directory}')\n",
    "\n",
    "        # action class labels\n",
    "        if smaller_dataset:\n",
    "            class_file = open(base_directory/'annotations/smaller-ucfTrainTestlist/smaller-classInd.txt','r')\n",
    "        else:\n",
    "            class_file = open(base_directory/'annotations/ucfTrainTestlist/classInd.txt','r')\n",
    "        lines = class_file.readlines()\n",
    "        lines = [line.split(' ')[1].strip() for line in lines]\n",
    "        class_file.close()\n",
    "        class_names = np.asarray(lines)\n",
    "\n",
    "        if data_type == 'train':\n",
    "            # training data\n",
    "            if smaller_dataset:\n",
    "                train_file = open(base_directory/'annotations/smaller-ucfTrainTestlist/smaller-trainlist01.txt','r')\n",
    "            else:\n",
    "                train_file = open(base_directory/'annotations/ucfTrainTestlist/trainlist01.txt','r')\n",
    "            lines = train_file.readlines()      \n",
    "            if remove_classname:\n",
    "                filenames = ['/UCF-101/' + line.split(' ')[0].split('/')[1] for line in lines]\n",
    "            else:\n",
    "                filenames = ['/UCF-101/' + line.split(' ')[0] for line in lines]\n",
    "            y_train = [int(line.split(' ')[1].strip())-1 for line in lines]\n",
    "            y_train = np.asarray(y_train)    \n",
    "            filenames = [base_directory.as_posix() + filename for filename in filenames]\n",
    "            train_file.close()\n",
    "            train = (np.asarray(filenames),y_train)\n",
    "\n",
    "            X = train\n",
    "            print('Number of training files:', len(X[0]))\n",
    "\n",
    "        else:\n",
    "            # testing data\n",
    "            if smaller_dataset:\n",
    "                test_file = open(base_directory/'annotations/smaller-ucfTrainTestlist/smaller-testlist01.txt','r')\n",
    "            else:\n",
    "                test_file = open(base_directory/'annotations/ucfTrainTestlist/testlist01.txt','r')\n",
    "            lines = test_file.readlines()\n",
    "            filenames = ['/UCF-101/' + line.split(' ')[0].strip() for line in lines]\n",
    "            classnames = [filename.split('/')[2] for filename in filenames]\n",
    "\n",
    "            if remove_classname:\n",
    "                # remove the class name from the filename if needed.\n",
    "                filenames = ['/UCF-101/' + line.split(' ')[0].split('/')[1].strip() for line in lines]\n",
    "\n",
    "            y_test = [np.where(classname == class_names)[0][0] for classname in classnames]\n",
    "            y_test = np.asarray(y_test)\n",
    "            filenames = [base_directory.as_posix() + filename for filename in filenames]\n",
    "            test_file.close()\n",
    "            test = (np.asarray(filenames),y_test)\n",
    "\n",
    "            X = test\n",
    "            print('Number of validation files:', len(X[0]))\n",
    "        #print('[getFileList] Done.')\n",
    "        return X, class_names\n",
    "\n",
    "\n",
    "    def downloadData(self):\n",
    "        \"\"\"\n",
    "        Downloads all zip files of the UCF101 dataset.\n",
    "        \"\"\"\n",
    "        \n",
    "        target_dir = self.base_directory\n",
    "        print(f'[downloadData] 1/2 Beginning file download to {target_dir}')\n",
    "\n",
    "        compressed_dir = pathlib.Path(target_dir + '/compressed')\n",
    "        compressed_dir.mkdir(parents=True, exist_ok=True)\n",
    "\n",
    "        annotations_dir = pathlib.Path(target_dir + '/annotations')\n",
    "        annotations_dir.mkdir(parents=True, exist_ok=True)\n",
    "\n",
    "        destination_dir = pathlib.Path(target_dir + '/UCF-101')\n",
    "        destination_dir.mkdir(parents=True, exist_ok=True)\n",
    "\n",
    "        # download annotations for action recognition\n",
    "        if pathlib.Path(compressed_dir/'UCF101TrainTestSplits-RecognitionTask.zip').exists():\n",
    "            print (\"[downloadData]File UCF101TrainTestSplits-RecognitionTask.zip exists.\")\n",
    "        else:    \n",
    "            annotation_url = 'https://www.crcv.ucf.edu/data/UCF101/UCF101TrainTestSplits-RecognitionTask.zip'\n",
    "            filename = wget.download(annotation_url, out=compressed_dir.as_posix(), bar=wget.bar_adaptive)\n",
    "            print(f'[downloadData]File downloaded to {filename}')\n",
    "\n",
    "        if pathlib.Path(compressed_dir/'UCF101TrainTestSplits-DetectionTask.zip').exists():\n",
    "            print (\"[downloadData]File UCF101TrainTestSplits-DetectionTask.zip exists.\")\n",
    "        else:        \n",
    "            # download annotations for action detection\n",
    "            annotation_url = 'https://www.crcv.ucf.edu/data/UCF101/UCF101TrainTestSplits-DetectionTask.zip'\n",
    "            filename =wget.download(annotation_url, out=compressed_dir.as_posix(), bar=wget.bar_adaptive)\n",
    "            print(f'[downloadData]File downloaded to {filename}')\n",
    "\n",
    "        # download videos\n",
    "        if pathlib.Path(compressed_dir/'UCF101.rar').exists():\n",
    "            print (\"[downloadData]File UCF101.rar exists.\")\n",
    "        else:            \n",
    "            video_url = 'https://www.crcv.ucf.edu/data/UCF101/UCF101.rar'\n",
    "            filename =wget.download(video_url, out=compressed_dir.as_posix(), bar=wget.bar_adaptive)\n",
    "            print(f'[downloadData]File downloaded to {filename}')\n",
    "\n",
    "        print('[downloadData] Done.\\n')\n",
    "        \n",
    "    def extractData(self):\n",
    "        \"\"\"\n",
    "        Extracts all zip files of the UCF101 dataset.\n",
    "        It does system calls and it needs unrar (apt-get install unrar-free)        \n",
    "        \"\"\"\n",
    "        \n",
    "        target_dir = self.base_directory\n",
    "        print('[extractData] Extracting data...')\n",
    "\n",
    "        target_dir = pathlib.Path(target_dir)\n",
    "\n",
    "        compressed_dir = pathlib.Path(target_dir/'compressed')\n",
    "        compressed_dir.mkdir(parents=True, exist_ok=True)\n",
    "\n",
    "        annotations_dir = pathlib.Path(target_dir/'annotations')\n",
    "        annotations_dir.mkdir(parents=True, exist_ok=True)\n",
    "\n",
    "        destination_dir = pathlib.Path(target_dir/'UCF-101')\n",
    "        destination_dir.mkdir(parents=True, exist_ok=True)   \n",
    "\n",
    "        try:\n",
    "            bash_cmd = 'unrar ' + target_dir.as_posix() + '/UCF101.rar' + ' ' + target_dir.as_posix() + '/UCF-101'\n",
    "            print(bash_cmd)\n",
    "            process = subprocess.Popen(bash_cmd.split(), stdout=subprocess.PIPE)\n",
    "            output, error = process.communicate()\n",
    "            print(output)\n",
    "        except Exception as e:\n",
    "            print(e)\n",
    "        print()        \n",
    "\n",
    "        bash_cmd = 'cp ' + target_dir.as_posix() + '/compressed/UCF101TrainTestSplits-RecognitionTask.zip ' + annotations_dir.as_posix() + '/UCF101TrainTestSplits-RecognitionTask.zip'\n",
    "        print(bash_cmd)\n",
    "        process = subprocess.Popen(bash_cmd.split(), stdout=subprocess.PIPE)\n",
    "        output, error = process.communicate()\n",
    "        if len(output) > 0: print(output)\n",
    "        if len(error) > 0: print(error)\n",
    "        print()\n",
    "\n",
    "        bash_cmd = 'unzip ' + annotations_dir.as_posix() + '/UCF101TrainTestSplits-RecognitionTask.zip -d ' + annotations_dir.as_posix()\n",
    "        print(bash_cmd)\n",
    "        process = subprocess.Popen(bash_cmd.split(), stdout=subprocess.PIPE)\n",
    "        output, error = process.communicate()\n",
    "        if len(output) > 0: print(output)\n",
    "        if len(error) > 0: print(error)\n",
    "        print()    \n",
    "\n",
    "        bash_cmd = 'cp ' + target_dir.as_posix() + '/compressed/UCF101TrainTestSplits-DetectionTask.zip ' + annotations_dir.as_posix() + '/UCF101TrainTestSplits-DetectionTask.zip'\n",
    "        print(bash_cmd)\n",
    "        process = subprocess.Popen(bash_cmd.split(), stdout=subprocess.PIPE)\n",
    "        output, error = process.communicate()\n",
    "        if len(output) > 0: print(output)\n",
    "        if len(error) > 0: print(error)\n",
    "        print()\n",
    "\n",
    "        bash_cmd = 'unzip ' + annotations_dir.as_posix() + '/UCF101TrainTestSplits-DetectionTask.zip -d ' + annotations_dir.as_posix()\n",
    "        print(bash_cmd)    \n",
    "        process = subprocess.Popen(bash_cmd.split(), stdout=subprocess.PIPE)\n",
    "        output, error = process.communicate()\n",
    "        if len(output) > 0: print(output)\n",
    "        if len(error) > 0: print(error)\n",
    "        print()\n",
    "\n",
    "        bash_cmd = 'rm ' + target_dir.as_posix() + '/annotations/*.zip'\n",
    "        print(bash_cmd)    \n",
    "        process = subprocess.Popen(bash_cmd.split(), stdout=subprocess.PIPE)\n",
    "        output, error = process.communicate()\n",
    "        if len(output) > 0: print(output)\n",
    "        if len(error) > 0: print(error)\n",
    "\n",
    "        print()\n",
    "        print('[extractData] Done.')"
   ]
  },
  {
   "cell_type": "markdown",
   "metadata": {},
   "source": [
    "Quickly verifies that the class does what we need:"
   ]
  },
  {
   "cell_type": "code",
   "execution_count": 11,
   "metadata": {},
   "outputs": [],
   "source": [
    "ucf = UCF101('../data/UCF101/')"
   ]
  },
  {
   "cell_type": "code",
   "execution_count": 12,
   "metadata": {},
   "outputs": [
    {
     "name": "stdout",
     "output_type": "stream",
     "text": [
      "Number of training files: 282\n"
     ]
    }
   ],
   "source": [
    "X, class_names = ucf.getFileList(data_type='train', smaller_dataset=True)\n",
    "\n",
    "file_list, labels = X[0], X[1]"
   ]
  },
  {
   "cell_type": "code",
   "execution_count": 13,
   "metadata": {},
   "outputs": [
    {
     "data": {
      "text/plain": [
       "('../data/UCF101/UCF-101/ApplyEyeMakeup/v_ApplyEyeMakeup_g08_c01.avi',\n",
       " 0,\n",
       " 'ApplyEyeMakeup')"
      ]
     },
     "execution_count": 13,
     "metadata": {},
     "output_type": "execute_result"
    }
   ],
   "source": [
    "file_list[0], labels[0], class_names[0]"
   ]
  },
  {
   "cell_type": "markdown",
   "metadata": {},
   "source": [
    "## Datasets"
   ]
  },
  {
   "cell_type": "markdown",
   "metadata": {},
   "source": [
    "### Single Frame"
   ]
  },
  {
   "cell_type": "markdown",
   "metadata": {},
   "source": [
    "The SingleFrameDataset class gets a single random frame from an AVI video.\n",
    "The video is identified through an idx that corresponds to the index in a file list."
   ]
  },
  {
   "cell_type": "code",
   "execution_count": null,
   "metadata": {},
   "outputs": [],
   "source": [
    "#export\n",
    "class SingleFrameDataset(Dataset):\n",
    "    \"\"\"Single frame dataset for the UCF101.\"\"\"\n",
    "\n",
    "    def __init__(self, dataset_path, training=True, img_type=np.float32, transform=None, verbose=False, smaller_dataset=False):\n",
    "        \"\"\"\n",
    "        Args:            \n",
    "            file_list: list of files as a numpy array.\n",
    "            labels: one entry per filename in the list of files as a numpy array.\n",
    "            train: flag to say whether train or test dataset is used.\n",
    "            transform (callable, optional): Optional transform to be applied\n",
    "                on a sample.\n",
    "        \"\"\"\n",
    "        self.verbose = verbose\n",
    "        self.training = True\n",
    "        ucf = UCF101(dataset_path)\n",
    "        \n",
    "        X, class_names = ucf.getFileList(data_type='train' if training else 'test', smaller_dataset=smaller_dataset)\n",
    "        self.file_list, self.labels = X[0], X[1]\n",
    "        self.class_names = class_names\n",
    "        self.num_classes = len(self.class_names)\n",
    "        self.img_type = img_type\n",
    "        self.transform = transform\n",
    "        \n",
    "    def setVerbose(self, flag=False):\n",
    "        self.verbose=flag\n",
    "        \n",
    "    def getClassName(self, idx):\n",
    "        return self.class_names[idx]\n",
    "    \n",
    "    def getFileName(self, idx):\n",
    "        return self.file_list[idx]\n",
    "\n",
    "    def __len__(self):\n",
    "        return len(self.file_list)\n",
    "\n",
    "    def __getitem__(self, idx):\n",
    "        if torch.is_tensor(idx):\n",
    "            idx = idx.tolist()\n",
    "        \n",
    "        video_list = self.file_list[idx]\n",
    "        #video_list = self.file_list[idx % len(self)] # wraps up if an out of index idx is used.\n",
    "        avi = AVI(video_list, verbose=self.verbose, img_type=self.img_type)\n",
    "                \n",
    "        frame = avi.getRandomFrame()\n",
    "                                    \n",
    "        label = self.labels[idx]\n",
    "        label = np.array([label])\n",
    "\n",
    "        if self.transform:\n",
    "#            frame = frame.transpose(2,0,1)\n",
    "            frame = self.transform(frame)         \n",
    "            \n",
    "        return frame, label\n",
    "            "
   ]
  },
  {
   "cell_type": "markdown",
   "metadata": {},
   "source": [
    "We can now test it to verify what this does."
   ]
  },
  {
   "cell_type": "markdown",
   "metadata": {},
   "source": [
    "We can now create our dataset:"
   ]
  },
  {
   "cell_type": "code",
   "execution_count": null,
   "metadata": {
    "scrolled": true
   },
   "outputs": [],
   "source": [
    "train_ds = SingleFrameDataset(dataset_path='../data/UCF101/', training=True, transform=None)"
   ]
  },
  {
   "cell_type": "code",
   "execution_count": null,
   "metadata": {},
   "outputs": [],
   "source": [
    "print(train_ds.num_classes)"
   ]
  },
  {
   "cell_type": "markdown",
   "metadata": {},
   "source": [
    "Note that in this case, the shape is the one of a PIL image. No transformation is applied"
   ]
  },
  {
   "cell_type": "code",
   "execution_count": null,
   "metadata": {},
   "outputs": [],
   "source": [
    "train_ds[0][0].shape"
   ]
  },
  {
   "cell_type": "markdown",
   "metadata": {},
   "source": [
    "And plot one of the frames. Note that each frame is extracted at random so multiple run of the cell below will show different results.\n",
    "\n",
    "Even though it is not strictly necessary, we will make use of the AVI class to display the frame."
   ]
  },
  {
   "cell_type": "code",
   "execution_count": null,
   "metadata": {},
   "outputs": [],
   "source": [
    "idx = 1000\n",
    "AVI.frameShow(train_ds[idx][0], title=train_ds.getClassName(train_ds[idx][1]))"
   ]
  },
  {
   "cell_type": "markdown",
   "metadata": {},
   "source": [
    "### DataLoader"
   ]
  },
  {
   "cell_type": "markdown",
   "metadata": {},
   "source": [
    "In this case, we do not need to define a specialise DataLoader class and we can use the pytorch version."
   ]
  },
  {
   "cell_type": "markdown",
   "metadata": {},
   "source": [
    "`torch.utils.data.DataLoader` is an iterator which provides:\n",
    "\n",
    "- Batching the data\n",
    "- Shuffling the data\n",
    "- Load the data in parallel using multiprocessing workers.\n",
    "\n",
    "this avoid losing a lot of features by using a simple for loop to iterate over the data.\n",
    "\n",
    "\n",
    "One parameter of interest is `collate_fn`. You can specify how exactly the samples need to be batched using `collate_fn`. However, default collate should work fine for most use cases."
   ]
  },
  {
   "cell_type": "code",
   "execution_count": null,
   "metadata": {},
   "outputs": [],
   "source": [
    "#hide\n",
    "# def singleFrameReplicate_collate(batch):\n",
    "#     len_batch = len(batch) # original batch length\n",
    "#     batch = list(filter (lambda x:x is not None, batch)) # filter out all the Nones\n",
    "#     if len_batch > len(batch): \n",
    "#         # if there are samples missing just use existing members, doesn't work if you reject every sample in a batch\n",
    "#         diff = len_batch - len(batch)\n",
    "#         for i in range(diff):\n",
    "#             batch = batch + batch[:diff]\n",
    "#     return torch.utils.data.dataloader.default_collate(batch)"
   ]
  },
  {
   "cell_type": "code",
   "execution_count": null,
   "metadata": {},
   "outputs": [],
   "source": [
    "#hide\n",
    "# def singleFrame_collate(batch):\n",
    "#     len_batch = len(batch) # original batch length\n",
    "#     batch = list(filter (lambda x:x is not None, batch)) # filter out all the Nones\n",
    "#     if len_batch > len(batch): \n",
    "#          print('FILTER!')\n",
    "#         # source all the required samples from the original dataset at random\n",
    "#         diff = len_batch - len(batch)\n",
    "#         for i in range(diff):\n",
    "#             batch.append(dataset[np.random.randint(0, len(dataset))])\n",
    "\n",
    "#     return torch.utils.data.dataloader.default_collate(batch)"
   ]
  },
  {
   "cell_type": "code",
   "execution_count": null,
   "metadata": {},
   "outputs": [],
   "source": [
    "train_dl = DataLoader(dataset=train_ds, batch_size=4, shuffle=True, num_workers=4) # collate_fn=singleFrame_collate,"
   ]
  },
  {
   "cell_type": "markdown",
   "metadata": {},
   "source": [
    "To understand what the DataLoader class does, let's define a ShowBath class."
   ]
  },
  {
   "cell_type": "code",
   "execution_count": null,
   "metadata": {},
   "outputs": [],
   "source": [
    "#export\n",
    "class BatchShower:        \n",
    "    def __init__(self, dl):\n",
    "        self.dl = dl\n",
    "    \n",
    "    def showBatch(self, idx, scale=1):\n",
    "        \"\"\"Loops through the dataloader and shows only one batch (idx)\"\"\"\n",
    "        assert idx >= 0 and idx <= np.floor(len(self.dl.dataset)/self.dl.batch_size), \"selected batch index out of batch size range: [0, %d]\" % np.floor(len(self.dl.dataset)/self.dl.batch_size)\n",
    "        \n",
    "        for i_batch, sample_batched in enumerate(self.dl):   \n",
    "#            print(i_batch, sample_batched[0].size())\n",
    "#             observe the idx-th batch and stop\n",
    "            if i_batch == idx:\n",
    "                print(f'batch sample size: {sample_batched[0].shape}')\n",
    "            \n",
    "                plt.figure(figsize=(10,10))\n",
    "                image, label = sample_batched[0], sample_batched[1]\n",
    "                class_name = self.dl.dataset.getClassName(sample_batched[1])\n",
    "                self.showThisBatch(image, label, scale)\n",
    "                print(class_name.tolist())\n",
    "                plt.axis('off')\n",
    "                plt.ioff()\n",
    "                plt.show()\n",
    "                break     \n",
    "        \n",
    "        \n",
    "    def showThisBatch(self, images_batch, labels_batch, scale=1):\n",
    "        \"\"\"Show image for a batch of samples. \n",
    "        Must be tensors of size (bs x w x h x channels).        \n",
    "        \"\"\"\n",
    "        batch_size = len(images_batch)\n",
    "        im_size = images_batch.size()\n",
    "\n",
    "        ncols = int(np.ceil(np.sqrt(batch_size)))        \n",
    "        for i in range(batch_size):\n",
    "            ax = plt.subplot(ncols, ncols, i+1)\n",
    "            if type(images_batch[i]) == torch.Tensor:\n",
    "                frame = images_batch[i].data.numpy()\n",
    "                frame = frame/255.\n",
    "\n",
    "            if frame.shape[0] <= 3:\n",
    "                frame = frame.transpose(1, 2, 0)                \n",
    "            frame_v_mean = np.mean(frame)                        \n",
    "            frame = scale*frame            \n",
    "            frame[frame<0] = 0\n",
    "            if np.mean(frame) < 2:                \n",
    "                frame[frame>1] = 1\n",
    "            else:\n",
    "                frame[frame>255] = 255            \n",
    "                \n",
    "            plt.imshow(frame)   \n",
    "#           plt.tight_layout()\n",
    "            ax.axis('off')                            \n"
   ]
  },
  {
   "cell_type": "code",
   "execution_count": null,
   "metadata": {
    "scrolled": false
   },
   "outputs": [],
   "source": [
    "sb = BatchShower(train_dl)\n",
    "sb.showBatch(idx=3)"
   ]
  },
  {
   "cell_type": "markdown",
   "metadata": {},
   "source": [
    "And if we want to add more complex transformation:"
   ]
  },
  {
   "cell_type": "code",
   "execution_count": null,
   "metadata": {},
   "outputs": [],
   "source": [
    "# Normalization parameters for pre-trained PyTorch models\n",
    "mean = np.array([0.485, 0.456, 0.406])\n",
    "std = np.array([0.229, 0.224, 0.225])\n",
    "\n",
    "# Define training set\n",
    "train_ds = SingleFrameDataset(\n",
    "    dataset_path='../data/UCF101/',\n",
    "    training=True,\n",
    "    img_type=np.uint8,\n",
    "    transform=transforms.Compose(\n",
    "    [\n",
    "        transforms.ToPILImage(),\n",
    "        transforms.Resize((224, 224)),  \n",
    "        transforms.ToTensor(),\n",
    "        transforms.Normalize(mean, std), \n",
    "    ])\n",
    ")\n",
    "train_dl = DataLoader(train_ds, batch_size=4, shuffle=True, num_workers=1)"
   ]
  },
  {
   "cell_type": "code",
   "execution_count": null,
   "metadata": {},
   "outputs": [],
   "source": [
    "sb = BatchShower(train_dl)\n",
    "sb.showBatch(3, 255) "
   ]
  },
  {
   "cell_type": "markdown",
   "metadata": {},
   "source": [
    "Using my custom transformations:"
   ]
  },
  {
   "cell_type": "code",
   "execution_count": null,
   "metadata": {},
   "outputs": [],
   "source": [
    "# Normalization parameters for pre-trained PyTorch models\n",
    "mean = np.array([0.485, 0.456, 0.406])\n",
    "std = np.array([0.229, 0.224, 0.225])\n",
    "\n",
    "# Define training set\n",
    "train_ds = SingleFrameDataset(\n",
    "    dataset_path='../data/UCF101/',\n",
    "    training=True,\n",
    "    img_type=np.float32,\n",
    "    transform=transforms.Compose(\n",
    "    [\n",
    "        ImageRescale((224,224)),\n",
    "        ImageToTensor(),\n",
    "        ImageNormalize(mean, std), \n",
    "    ])\n",
    ")\n",
    "train_dl = DataLoader(train_ds, batch_size=4, shuffle=True, num_workers=1)"
   ]
  },
  {
   "cell_type": "code",
   "execution_count": null,
   "metadata": {},
   "outputs": [],
   "source": [
    "sb = BatchShower(train_dl)\n",
    "sb.showBatch(3, 255) "
   ]
  },
  {
   "cell_type": "markdown",
   "metadata": {},
   "source": [
    "### Sequence Dataset"
   ]
  },
  {
   "cell_type": "code",
   "execution_count": null,
   "metadata": {},
   "outputs": [],
   "source": [
    "#export\n",
    "class SequenceDataset(Dataset):\n",
    "    \"\"\"Sequence based dataset for the UCF101.\n",
    "    \n",
    "    Output is of shape:\n",
    "        seq_len, H, W, C\n",
    "        \n",
    "    Note that when this is passed onto a DataLoader with toTensor() transform, it changes its shape to:\n",
    "        batch_size, seq_length, C, H, W \n",
    "        \n",
    "    \"\"\"\n",
    "\n",
    "    def __init__(self, dataset_path, sequence_length, sample_interval=1, training=True, transform=None, safe=True, verbose=False, smaller_dataset=False):\n",
    "        \"\"\"\n",
    "        Args:            \n",
    "            file_list: list of files as a numpy array.\n",
    "            labels: one entry per filename in the list of files as a numpy array.\n",
    "            train: flag to say whether train or test dataset is used.\n",
    "            transform (callable, optional): Optional transform to be applied\n",
    "                on a sample.\n",
    "        \"\"\"\n",
    "        self.sequence_length = sequence_length\n",
    "        self.sample_interval = sample_interval\n",
    "        self.training = training\n",
    "        self.safe = safe # impacts the getSequence method of the AVI class accessed through getRandomSequence method.\n",
    "        self.verbose = verbose\n",
    "\n",
    "        ucf = UCF101(dataset_path)\n",
    "        \n",
    "        X, class_names = ucf.getFileList(data_type='train' if training else 'test', smaller_dataset=smaller_dataset)\n",
    "        self.file_list, self.labels = X[0], X[1]\n",
    "        self.class_names = class_names\n",
    "        self.num_classes = len(self.class_names)\n",
    "        self.transform = transform\n",
    "        self._debug = False\n",
    "        self.lastfile_loaded = None\n",
    "    \n",
    "    def setVerbose(self, flag=False):\n",
    "        self.verbose=flag\n",
    "    \n",
    "    def debug(self, flag=False, seq_idx=0, seq_len=6):\n",
    "        self._debug = flag\n",
    "        self._debug_seq_idx = seq_idx\n",
    "        self._debug_seq_len = seq_len\n",
    "        \n",
    "    def getClassName(self, idx):\n",
    "        return self.class_names[idx]\n",
    "    \n",
    "    def getFileName(self, idx):\n",
    "        return self.file_list[idx]\n",
    "\n",
    "    def __len__(self):\n",
    "        return len(self.file_list)\n",
    "\n",
    "    def __getitem__(self, idx):\n",
    "        \"\"\"\n",
    "        Args:\n",
    "        - idx: item index\n",
    "        returns: \n",
    "        - sequence: list of frames of length self.sequence_length\n",
    "        \"\"\"\n",
    "        if torch.is_tensor(idx):\n",
    "            idx = idx.tolist()\n",
    "        \n",
    "        #video_list = self.file_list[idx]\n",
    "        video_list = self.file_list[idx % len(self)] # wraps up if an out of index idx is used.\n",
    "        avi = AVI(video_list, verbose=self.verbose, safe=self.safe)  # setting verbose to True might help debugging.\n",
    "    \n",
    "        # saves last files open\n",
    "        \n",
    "        # frames is a numpy matrix of shape seq_len, H, W, C\n",
    "        if self._debug:\n",
    "            # WARNING: THIS IS ONLY FOR DEBUGGING PURPOSES. SHOULD BE REMOVED LATER.\n",
    "            # print(f'video_list: {video_list}')\n",
    "            # self.lastfile_loaded = video_list\n",
    "            #         print(\"avi._attributes['n-frames']-idx_0:\", avi._attributes['n-frames']-idx_0)\n",
    "            #idx_0 = avi._attributes['n-frames']-2\n",
    "#             frames = avi.getSequence(idx_0=idx_0, seq_len=avi._attributes['n-frames']-idx_0, sample_interval=1, circular=False)  \n",
    "            idx_0 = self._debug_seq_idx\n",
    "            frames = avi.getSequence(idx_0=idx_0, seq_len=self._debug_seq_len, sample_interval=1, circular=False)  \n",
    "        else:\n",
    "            frames = avi.getRandomSequence(self.sequence_length, self.sample_interval)\n",
    "                             \n",
    "        #print(len(frames))\n",
    "        label = self.labels[idx]\n",
    "        label = np.array([label])\n",
    "                \n",
    "        # Extract frames as tensors\n",
    "        image_sequence = []\n",
    "        \n",
    "        #image_sequence = torch.stack(image_sequence)        \n",
    "        #     frame = frame.transpose(2,0,1)\n",
    "        \n",
    "        if self.transform:\n",
    "            sequence = None \n",
    "            for i, frame in enumerate(frames):             \n",
    "                frame = self.transform(frame)  # here frame might be a tensor\n",
    "                if sequence is None:           \n",
    "                    # we still need to allocate it.\n",
    "                    sequence = np.zeros(np.array(np.append(np.array([self.sequence_length]), np.array(frame.shape))))\n",
    "                sequence[i,:,:,:] = frame\n",
    "            frames = sequence\n",
    "#         frame = np.asarray(frame)\n",
    "#         frame = frame.transpose(3,0,1,2)\n",
    "#         if type(frame) == torch.Tensor:\n",
    "#             sequence = torch.stack(sequence)\n",
    "        \n",
    "        return frames, label\n",
    "            "
   ]
  },
  {
   "cell_type": "code",
   "execution_count": null,
   "metadata": {},
   "outputs": [],
   "source": [
    "mean = np.asarray([0.433, 0.4045, 0.3776],np.float32)\n",
    "std = np.asarray([0.1519876, 0.14855877, 0.156976],np.float32)\n",
    "\n",
    "\n",
    "trfms=transforms.Compose(\n",
    "[\n",
    "    transforms.ToPILImage(),\n",
    "    transforms.Resize((224, 224)),  \n",
    "    transforms.ToTensor(),\n",
    "    transforms.Normalize(mean, std), \n",
    "])\n",
    "\n",
    "train_ds = SequenceDataset(dataset_path='../data/UCF101/', \n",
    "                           sequence_length=16, \n",
    "                           training=True, \n",
    "                           transform=trfms, \n",
    "                           verbose=True, \n",
    "                           smaller_dataset=False)\n",
    "\n",
    "print(f\"Num of classes: {train_ds.num_classes}\")"
   ]
  },
  {
   "cell_type": "markdown",
   "metadata": {},
   "source": [
    "And plot one of the possible random sequences. Note that each sequence is extracted at random so multiple run of the cell below will show different results.\n",
    "\n",
    "Even though it is not strictly necessary, we will make use of the AVI class to display the frame."
   ]
  },
  {
   "cell_type": "code",
   "execution_count": null,
   "metadata": {},
   "outputs": [],
   "source": [
    "idx = np.where(train_ds.file_list == '../data/UCF101/UCF-101/ApplyEyeMakeup/v_ApplyEyeMakeup_g08_c01.avi')[0][0]\n",
    "#idx = np.where(train_ds.file_list == '../data/UCF101/UCF-101/ApplyEyeMakeup/v_ApplyEyeMakeup_g01_c01.avi')[0][0]\n",
    "print(idx, train_ds.getFileName(idx))"
   ]
  },
  {
   "cell_type": "code",
   "execution_count": null,
   "metadata": {
    "scrolled": false
   },
   "outputs": [],
   "source": [
    "fig = plt.figure(figsize=(20,20))\n",
    "sequence, label = train_ds[idx]\n",
    "print(train_ds.lastfile_loaded)\n",
    "AVI.sequenceShow(sequence.transpose(0,2,3,1), label)"
   ]
  },
  {
   "cell_type": "markdown",
   "metadata": {},
   "source": [
    "Before doing so, we verify that the SequenceDataset is robust against frame errors in a sequence. This is a hack at the moment but it seems to be doing the job for now..\n",
    "\n",
    "We now look for one specific file that we know is trouble:"
   ]
  },
  {
   "cell_type": "code",
   "execution_count": null,
   "metadata": {},
   "outputs": [],
   "source": [
    "idx = np.where(train_ds.file_list == '../data/UCF101/UCF-101/Diving/v_Diving_g22_c06.avi')[0][0]\n",
    "print(idx, train_ds.getFileName(idx))"
   ]
  },
  {
   "cell_type": "markdown",
   "metadata": {},
   "source": [
    "The following cell is only to see what attributes the file has:"
   ]
  },
  {
   "cell_type": "code",
   "execution_count": null,
   "metadata": {},
   "outputs": [],
   "source": [
    "avi = AVI(train_ds.file_list[idx], verbose=True)\n",
    "print(avi._attributes)"
   ]
  },
  {
   "cell_type": "code",
   "execution_count": null,
   "metadata": {},
   "outputs": [],
   "source": [
    "train_ds.debug(True, avi._attributes['n-frames']-2, avi._attributes['n-frames']-idx_0) # When we do this, we force specific frames to be used."
   ]
  },
  {
   "cell_type": "code",
   "execution_count": null,
   "metadata": {},
   "outputs": [],
   "source": [
    "fig = plt.figure(figsize=(20,20))\n",
    "sequence, label = train_ds[idx]\n",
    "print(train_ds.lastfile_loaded)\n",
    "AVI.sequenceShow(sequence.transpose(0,2,3,1), label)"
   ]
  },
  {
   "cell_type": "markdown",
   "metadata": {},
   "source": [
    "Turn off debugging and go back to usual behaviour.\n",
    "We can still use the same file (id 2496) as it is quite unlikely that we end up having a corrupted first frame."
   ]
  },
  {
   "cell_type": "code",
   "execution_count": null,
   "metadata": {},
   "outputs": [],
   "source": [
    "train_ds.debug(False)"
   ]
  },
  {
   "cell_type": "code",
   "execution_count": null,
   "metadata": {},
   "outputs": [],
   "source": [
    "sequence, label = train_ds[2496]\n",
    "AVI.sequenceShow(sequence.transpose(0,2,3,1), label, max_seq=4)\n",
    "print(train_ds.lastfile_loaded)"
   ]
  },
  {
   "cell_type": "markdown",
   "metadata": {},
   "source": [
    "Let's see if we need a collate_fn for sequences:"
   ]
  },
  {
   "cell_type": "code",
   "execution_count": null,
   "metadata": {},
   "outputs": [],
   "source": [
    "def sequence_collate(batch):\n",
    "    len_batch = len(batch) # original batch length\n",
    "    batch = list(filter (lambda x:x is not None, batch)) # filter out all the Nones\n",
    "    \n",
    "    if len_batch > len(batch): \n",
    "        print('dataset_ucf101:sequence_collate. FILTER!')\n",
    "        # source all the required samples from the original dataset at random\n",
    "        diff = len_batch - len(batch)\n",
    "        for i in range(diff):\n",
    "            batch.append(dataset[np.random.randint(0, len(dataset))])\n",
    "\n",
    "    return torch.utils.data.dataloader.default_collate(batch)"
   ]
  },
  {
   "cell_type": "markdown",
   "metadata": {},
   "source": [
    "Let's create set the verbose flag to False now:"
   ]
  },
  {
   "cell_type": "code",
   "execution_count": null,
   "metadata": {},
   "outputs": [],
   "source": [
    "train_ds.setVerbose(False)"
   ]
  },
  {
   "cell_type": "code",
   "execution_count": null,
   "metadata": {},
   "outputs": [],
   "source": [
    "train_dl = DataLoader(dataset=train_ds, batch_size=4, collate_fn=singleFrame_collate, shuffle=True, num_workers=4)"
   ]
  },
  {
   "cell_type": "markdown",
   "metadata": {},
   "source": [
    "Remove the collate function:"
   ]
  },
  {
   "cell_type": "code",
   "execution_count": null,
   "metadata": {},
   "outputs": [],
   "source": [
    "train_ds = SequenceDataset(dataset_path='../data/UCF101/', \n",
    "                           sequence_length=16, \n",
    "                           training=True, \n",
    "                           transform=None, \n",
    "                           verbose=True, \n",
    "                           smaller_dataset=False)\n",
    "\n",
    "print(f\"Num of classes: {train_ds.num_classes}\")"
   ]
  },
  {
   "cell_type": "code",
   "execution_count": null,
   "metadata": {},
   "outputs": [],
   "source": [
    "train_dl = DataLoader(dataset=train_ds, batch_size=2, shuffle=False, num_workers=0)"
   ]
  },
  {
   "cell_type": "markdown",
   "metadata": {},
   "source": [
    "To understand that a Dataloader for a SequenceDataset does, let's define a SequenceBatchShower:"
   ]
  },
  {
   "cell_type": "code",
   "execution_count": 18,
   "metadata": {},
   "outputs": [],
   "source": [
    "#export\n",
    "class SequenceBatchShower:        \n",
    "    def __init__(self, dl, fig_size=5, max_batch_len=4, max_seq_len=4):\n",
    "        self.dl = dl\n",
    "        self.fig_size = fig_size\n",
    "        self.max_batch_len = max_batch_len # max number of batch element to show\n",
    "        self.max_seq_len = max_seq_len # max element in each sequence to show\n",
    "        \n",
    "    def __repr__(self):\n",
    "        return f'batch-size: {self.dl.batch_size} fig-size:{self.fig_size}, max_batch_len: {self.max_batch_len}, max_seq_len: {self.max_seq_len}'\n",
    "    \n",
    "    def showBatch(self, idx, scale=1, permuteToImg=None):\n",
    "        \"\"\"Loops through the dataloader and shows only one batch (idx).\n",
    "        Args:\n",
    "        - idx: batch number to show\n",
    "        - scale: accounts for different normalisation constants\n",
    "        - permuteToImg: let you change the axis of your image to be shown using imshow.\"\"\"\n",
    "        assert idx >= 0 and idx <= np.floor(len(self.dl.dataset)/self.dl.batch_size), \"selected batch index out of batch size range: [0, %d]\" % np.floor(len(self.dl.dataset)/self.dl.batch_size)\n",
    "        \n",
    "        for i_batch, sample_batched in enumerate(self.dl):   \n",
    "            # print(i_batch, sample_batched[0].shape)\n",
    "            # observe the idx-th batch and stop\n",
    "            if i_batch == idx:\n",
    "                print(f'batch sample size: {sample_batched[0].shape}')\n",
    "                \n",
    "                plt.figure(figsize=(10,10))\n",
    "                sequence, label = sample_batched[0], sample_batched[1]\n",
    "                \n",
    "                #print(torch.min(sequence), torch.max(sequence))\n",
    "                \n",
    "                class_name = self.dl.dataset.getClassName(sample_batched[1])\n",
    "                #print(f'filename: {self.dl.dataset.getFileName(sample_batched[1])}')\n",
    "                self.showThisBatch(sequence, label, scale, permuteToImg)\n",
    "                if self.dl.batch_size == 1:\n",
    "                    print(class_name.tolist())\n",
    "                else:\n",
    "                    print(class_name.tolist()[:self.max_batch_len])\n",
    "                \n",
    "                #print(f'self.dl.dataset.lastfile_loaded: {self.dl.dataset.lastfile_loaded}')\n",
    "                \n",
    "                plt.axis('off')\n",
    "                plt.ioff()\n",
    "                plt.show()\n",
    "                break     \n",
    "        \n",
    "        \n",
    "    def showThisBatch(self, sequence_batch, labels_batch, scale=1, permuteToImg=None):\n",
    "        \"\"\"Show a sequence of images for a batch of samples. \n",
    "        Must be tensors of size (bs x seq_len x w x h x channels).        \n",
    "        \"\"\"\n",
    "        batch_size = len(sequence_batch)\n",
    "        ncols = int(np.ceil(np.sqrt(batch_size)))  \n",
    "        for i in range(int(np.min([batch_size, self.max_batch_len]))):\n",
    "            fig = plt.figure(figsize=(self.fig_size,self.fig_size)); # ax = plt.subplot(ncols, ncols, i+1)\n",
    "            if permuteToImg is not None and len(permuteToImg)>0:\n",
    "                one_sequence = sequence_batch[i].permute(permuteToImg).numpy()\n",
    "            else:\n",
    "                one_sequence = sequence_batch[i].numpy() # I need seq_len x H x W x C here (e.g. .permute(0,2,3,1) corresponds to .transpose())                        \n",
    "            AVI.sequenceShow(one_sequence, max_seq=self.max_seq_len) \n",
    "            for a in fig.axes:\n",
    "                a.axis('off')  \n"
   ]
  },
  {
   "cell_type": "code",
   "execution_count": 19,
   "metadata": {},
   "outputs": [],
   "source": [
    "sb = SequenceBatchShower(train_dl, max_batch_len=4, max_seq_len=16)"
   ]
  },
  {
   "cell_type": "code",
   "execution_count": null,
   "metadata": {
    "scrolled": true
   },
   "outputs": [],
   "source": [
    "fig = plt.figure(figsize=(20,20))\n",
    "sb.showBatch(idx=0, scale=255, permuteToImg=None)"
   ]
  },
  {
   "cell_type": "code",
   "execution_count": null,
   "metadata": {
    "scrolled": false
   },
   "outputs": [],
   "source": [
    "sb = SequenceBatchShower(train_dl, max_batch_len=2, max_seq_len=6)\n",
    "print(sb)\n",
    "sb.showBatch(idx=4, scale=255, permuteToImg=None)"
   ]
  },
  {
   "cell_type": "markdown",
   "metadata": {},
   "source": [
    "And now with transformations:"
   ]
  },
  {
   "cell_type": "code",
   "execution_count": null,
   "metadata": {},
   "outputs": [],
   "source": [
    "# Normalization parameters for pre-trained PyTorch models\n",
    "mean = np.array([0.485, 0.456, 0.406])\n",
    "std = np.array([0.229, 0.224, 0.225])\n",
    "\n",
    "# Define training set\n",
    "train_ds = SequenceDataset(\n",
    "    dataset_path='../data/UCF101/',\n",
    "    sequence_length=6,\n",
    "    training=True,\n",
    "    transform=transforms.Compose(\n",
    "    [\n",
    "        transforms.ToPILImage(),\n",
    "        transforms.Resize((224, 224)),  \n",
    "        transforms.ToTensor(),\n",
    "        transforms.Normalize(mean, std), \n",
    "    ])\n",
    ")\n",
    "train_dl = DataLoader(train_ds, batch_size=4, shuffle=True, num_workers=1)"
   ]
  },
  {
   "cell_type": "code",
   "execution_count": null,
   "metadata": {},
   "outputs": [],
   "source": [
    "sb = SequenceBatchShower(train_dl)\n",
    "sb.showBatch(idx=3, scale=255, permuteToImg=(0,2,3,1)) "
   ]
  },
  {
   "cell_type": "markdown",
   "metadata": {},
   "source": [
    "With more complex transformations. I am going to use the test set (training=False) and set suffle to False in the dataloader."
   ]
  },
  {
   "cell_type": "code",
   "execution_count": null,
   "metadata": {},
   "outputs": [],
   "source": [
    "# Normalization parameters for pre-trained PyTorch models\n",
    "mean = np.array([0.485, 0.456, 0.406])\n",
    "std = np.array([0.229, 0.224, 0.225])\n",
    "\n",
    "# ImageRandomCrop(out_ratio=0.7, p_crop=0.5),\n",
    "# ImageRandomHorizontalFlip(p_flip=0.5),\n",
    "# ImageRescale((opt['img-size'], opt['img-size'])),\n",
    "# ImageAddRandomBrightness(),                               \n",
    "# ImageNormalize(),\n",
    "# ImageToTensor()\n",
    "\n",
    "# Define training set\n",
    "train_ds2 = SequenceDataset(\n",
    "    dataset_path='../data/UCF101/',\n",
    "    sequence_length=6,\n",
    "    training=False,\n",
    "    transform=transforms.Compose(\n",
    "    [\n",
    "        ImageRandomCrop(out_ratio=0.7, p_crop=1),\n",
    "        ImageRandomHorizontalFlip(p_flip=1),        \n",
    "        ImageRescale((224, 224)),  \n",
    "        ImageAddRandomBrightness(),                                       \n",
    "        ImageToTensor(),\n",
    "        ImageNormalize(mean, std), \n",
    "    ])\n",
    ")\n",
    "train_dl = DataLoader(train_ds2, batch_size=1, shuffle=False, num_workers=0)"
   ]
  },
  {
   "cell_type": "code",
   "execution_count": null,
   "metadata": {
    "scrolled": false
   },
   "outputs": [],
   "source": [
    "sb = SequenceBatchShower(train_dl, max_seq_len=6)\n",
    "sb.showBatch(idx=3, scale=255, permuteToImg=(0,2,3,1)) "
   ]
  },
  {
   "cell_type": "code",
   "execution_count": 75,
   "metadata": {},
   "outputs": [],
   "source": [
    "#export\n",
    "class ARSequenceDataset(Dataset):\n",
    "    \"\"\"Sequence based dataset for the UCF101.\n",
    "    \n",
    "    Output is of shape:\n",
    "        seq_len, H, W, C\n",
    "        \n",
    "    Note that when this is passed onto a DataLoader with toTensor() transform, it changes its shape to:\n",
    "        batch_size, seq_length, C, H, W \n",
    "        \n",
    "    \"\"\"\n",
    "\n",
    "    def __init__(self, dataset_path, sequence_length, sample_interval=1, training=True, transform=None, safe=True, verbose=False, smaller_dataset=False):\n",
    "        \"\"\"\n",
    "        Args:            \n",
    "            file_list: list of files as a numpy array.\n",
    "            labels: one entry per filename in the list of files as a numpy array.\n",
    "            train: flag to say whether train or test dataset is used.\n",
    "            transform (callable, optional): Optional transform to be applied\n",
    "                on a sample.\n",
    "        \"\"\"\n",
    "        self.sequence_length = sequence_length\n",
    "        self.sample_interval = sample_interval\n",
    "        self.training = training\n",
    "        self.safe = safe # impacts the getSequence method of the AVI class accessed through getRandomSequence method.\n",
    "        self.verbose = verbose\n",
    "\n",
    "        ucf = UCF101(dataset_path)\n",
    "        \n",
    "        X, class_names = ucf.getFileList(data_type='train' if training else 'test', smaller_dataset=smaller_dataset)\n",
    "        self.file_list, self.labels = X[0], X[1]\n",
    "        self.class_names = class_names\n",
    "        self.num_classes = len(self.class_names)\n",
    "        self.transform = transform\n",
    "        self._debug = False\n",
    "        self.lastfile_loaded = None\n",
    "    \n",
    "    def setVerbose(self, flag=False):\n",
    "        self.verbose=flag\n",
    "    \n",
    "    def debug(self, flag=False, seq_idx=0, seq_len=6):\n",
    "        self._debug = flag\n",
    "        self._debug_seq_idx = seq_idx\n",
    "        self._debug_seq_len = seq_len\n",
    "        \n",
    "    def getClassName(self, idx):\n",
    "        return self.class_names[idx]\n",
    "    \n",
    "    def getFileName(self, idx):\n",
    "        return self.file_list[idx]\n",
    "\n",
    "    def __len__(self):\n",
    "        return len(self.file_list)\n",
    "\n",
    "    def loadSequence(self, args):\n",
    "        mean = np.asarray([0.433, 0.4045, 0.3776],np.float32)\n",
    "        std = np.asarray([0.1519876, 0.14855877, 0.156976],np.float32)\n",
    "\n",
    "        curr_w = 320\n",
    "        curr_h = 240\n",
    "        height = width = 224\n",
    "        num_of_frames=16\n",
    "\n",
    "        (filename,augment) = args    \n",
    "\n",
    "        data = np.zeros((3,num_of_frames,height,width),dtype=np.float32)\n",
    "        try:\n",
    "            ### load file from AVI\n",
    "            cap = cv2.VideoCapture(filename)   \n",
    "            if not cap.isOpened(): \n",
    "                print(f\"could not open {filename}\") \n",
    "                return\n",
    "            nFrames = int(cap.get(cv2.CAP_PROP_FRAME_COUNT))\n",
    "            #frameWidth   = int(cap.get(cv2.CAP_PROP_FRAME_WIDTH))\n",
    "            #frameHeight  = int(cap.get(cv2.CAP_PROP_FRAME_HEIGHT))\n",
    "            fps     = cap.get(cv2.CAP_PROP_FPS)\n",
    "\n",
    "            frame_index = np.random.randint(nFrames - num_of_frames)\n",
    "            cap.set(cv2.CAP_PROP_POS_FRAMES, frame_index)\n",
    "            \n",
    "            #print(f'Frame-index-0: {frame_index}')\n",
    "            video = []        \n",
    "            f_count = 0\n",
    "            while cap.isOpened() and f_count < num_of_frames:\n",
    "                frameId = cap.get(cv2.CAP_PROP_POS_FRAMES) # current frame number\n",
    "                ret, frame = cap.read() \n",
    "                video.append(frame)\n",
    "                f_count += 1\n",
    "\n",
    "            cap.release()\n",
    "\n",
    "            if(augment==True):\n",
    "                ## RANDOM CROP - crop 70-100% of original size\n",
    "                ## don't maintain aspect ratio\n",
    "                resize_factor_w = 0.3*np.random.rand()+0.7\n",
    "                resize_factor_h = 0.3*np.random.rand()+0.7\n",
    "                w1 = int(curr_w*resize_factor_w)\n",
    "                h1 = int(curr_h*resize_factor_h)\n",
    "                w = np.random.randint(curr_w-w1)\n",
    "                h = np.random.randint(curr_h-h1)\n",
    "                random_crop = np.random.randint(2)\n",
    "\n",
    "                ## Random Flip\n",
    "                random_flip = np.random.randint(2)\n",
    "\n",
    "                ## Brightness +/- 15\n",
    "                brightness = 30\n",
    "                random_add = np.random.randint(brightness+1) - brightness/2.0\n",
    "\n",
    "                data = []\n",
    "                for frame in video:\n",
    "                    if(random_crop):\n",
    "                        frame = frame[h:(h+h1),w:(w+w1),:]\n",
    "                    if(random_flip):\n",
    "                        frame = cv2.flip(frame,1)\n",
    "                    frame = cv2.resize(frame,(width,height))\n",
    "                    frame = frame.astype(np.float32)\n",
    "\n",
    "                    frame += random_add\n",
    "                    frame[frame>255] = 255.0\n",
    "                    frame[frame<0] = 0.0\n",
    "\n",
    "                    frame = frame/255.0\n",
    "                    frame = (frame - mean)/std\n",
    "                    data.append(frame)\n",
    "                data = np.asarray(data)\n",
    "\n",
    "            else:\n",
    "                # don't augment\n",
    "                data = []\n",
    "                for frame in video:\n",
    "                    frame = cv2.resize(frame,(width,height))\n",
    "                    frame = frame.astype(np.float32)\n",
    "                    frame = frame/255.0\n",
    "                    frame = (frame - mean)/std\n",
    "                    data.append(frame)\n",
    "                data = np.asarray(data)\n",
    "\n",
    "            data = data.transpose(3,0,1,2)\n",
    "        except:\n",
    "            print(\"Exception: \" + filename)\n",
    "            data = np.array([])\n",
    "        return data\n",
    "    \n",
    "    \n",
    "    def __getitem__(self, idx):\n",
    "        \"\"\"\n",
    "        Args:\n",
    "        - idx: item index\n",
    "        returns: \n",
    "        - sequence: list of frames of length self.sequence_length\n",
    "        \"\"\"\n",
    "        if torch.is_tensor(idx):\n",
    "            idx = idx.tolist()\n",
    "        \n",
    "        video_list = self.file_list[idx]\n",
    "        #video_list = self.file_list[idx % len(self)] # wraps up if an out of index idx is used.\n",
    "        arg = (video_list, self.training)\n",
    "        frames = self.loadSequence(arg)\n",
    "        label = self.labels[idx]\n",
    "        label = np.array([label])                        \n",
    "        return frames, label\n",
    "            "
   ]
  },
  {
   "cell_type": "code",
   "execution_count": 76,
   "metadata": {},
   "outputs": [
    {
     "name": "stdout",
     "output_type": "stream",
     "text": [
      "Number of training files: 9537\n",
      "Num of classes: 101\n"
     ]
    }
   ],
   "source": [
    "train_ds = ARSequenceDataset(dataset_path='../data/UCF101/', \n",
    "                           sequence_length=16, \n",
    "                           training=True, \n",
    "                           transform=None, \n",
    "                           verbose=True, \n",
    "                           smaller_dataset=False)\n",
    "\n",
    "print(f\"Num of classes: {train_ds.num_classes}\")\n",
    "\n",
    "train_dl = DataLoader(dataset=train_ds, batch_size=2, shuffle=False, num_workers=0)"
   ]
  },
  {
   "cell_type": "code",
   "execution_count": 77,
   "metadata": {},
   "outputs": [
    {
     "name": "stdout",
     "output_type": "stream",
     "text": [
      "../data/UCF101/UCF-101/ApplyEyeMakeup/v_ApplyEyeMakeup_g08_c01.avi\r\n"
     ]
    }
   ],
   "source": [
    "!ls ../data/UCF101/UCF-101/ApplyEyeMakeup/v_ApplyEyeMakeup_g08_c01.avi"
   ]
  },
  {
   "cell_type": "code",
   "execution_count": 78,
   "metadata": {},
   "outputs": [
    {
     "name": "stdout",
     "output_type": "stream",
     "text": [
      "batch sample size: torch.Size([2, 3, 16, 224, 224])\n",
      "[['ApplyEyeMakeup'], ['ApplyEyeMakeup']]\n"
     ]
    },
    {
     "data": {
      "text/plain": [
       "<Figure size 720x720 with 0 Axes>"
      ]
     },
     "metadata": {},
     "output_type": "display_data"
    },
    {
     "data": {
      "image/png": "[encoded data removed]",
      "text/plain": [
       "<Figure size 360x360 with 6 Axes>"
      ]
     },
     "metadata": {
      "needs_background": "light"
     },
     "output_type": "display_data"
    },
    {
     "data": {
      "image/png": "[encoded data removed]",
      "text/plain": [
       "<Figure size 360x360 with 6 Axes>"
      ]
     },
     "metadata": {
      "needs_background": "light"
     },
     "output_type": "display_data"
    }
   ],
   "source": [
    "sb = SequenceBatchShower(train_dl, max_seq_len=6)\n",
    "sb.showBatch(idx=3, scale=0, permuteToImg=(1,2,3,0)) "
   ]
  },
  {
   "cell_type": "markdown",
   "metadata": {},
   "source": [
    "## fin."
   ]
  },
  {
   "cell_type": "code",
   "execution_count": 79,
   "metadata": {},
   "outputs": [
    {
     "name": "stdout",
     "output_type": "stream",
     "text": [
      "Converted 01_dataset_ucf101.ipynb.\n",
      "Converted 02_avi.ipynb.\n",
      "Converted 04_data_augmentation.ipynb.\n",
      "Converted 05_models.ipynb.\n",
      "Converted 06_models-resnet_3d.ipynb.\n",
      "Converted 07_utils.ipynb.\n",
      "Converted 10_run-baseline.ipynb.\n",
      "Converted 11_run-sequence-convlstm.ipynb.\n",
      "Converted 12_run-sequence-3d.ipynb.\n",
      "Converted Smaller UCF-dataset-Copy1.ipynb.\n",
      "Converted Smaller UCF-dataset.ipynb.\n",
      "Converted index.ipynb.\n"
     ]
    }
   ],
   "source": [
    "#hide\n",
    "from nbdev.export import *\n",
    "notebook2script()"
   ]
  },
  {
   "cell_type": "markdown",
   "metadata": {},
   "source": [
    "# "
   ]
  }
 ],
 "metadata": {
  "kernelspec": {
   "display_name": "Python 3",
   "language": "python",
   "name": "python3"
  },
  "language_info": {
   "codemirror_mode": {
    "name": "ipython",
    "version": 3
   },
   "file_extension": ".py",
   "mimetype": "text/x-python",
   "name": "python",
   "nbconvert_exporter": "python",
   "pygments_lexer": "ipython3",
   "version": "3.7.4"
  }
 },
 "nbformat": 4,
 "nbformat_minor": 2
}
